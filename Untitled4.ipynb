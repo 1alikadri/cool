{
 "cells": [
  {
   "cell_type": "code",
   "execution_count": null,
   "id": "4aa05bcf",
   "metadata": {},
   "outputs": [],
   "source": [
    "#Q5\n",
    "\n",
    "import numpy as np\n",
    "import matplotlib.pyplot as plt\n",
    "\n",
    "# Parameters\n",
    "T = 100  # Time periods\n",
    "initial_employment = 50  # Initial number of employed individuals\n",
    "job_creation_rate = 2  # New jobs created per time period\n",
    "job_destruction_rate = 1  # Jobs lost per time period\n",
    "\n",
    "# Initialize arrays to store employment and unemployment\n",
    "employment = np.zeros(T)\n",
    "unemployment = np.zeros(T)\n",
    "\n",
    "# Set initial employment\n",
    "employment[0] = initial_employment\n",
    "unemployment[0] = 100 - initial_employment  # Total labor force is 100\n",
    "\n",
    "# Simulate employment dynamics\n",
    "for t in range(1, T):\n",
    "    # Calculate new employment based on job creation and destruction\n",
    "    new_jobs = job_creation_rate\n",
    "    lost_jobs = job_destruction_rate\n",
    "    \n",
    "    # Update employment and unemployment\n",
    "    employment[t] = employment[t-1] + new_jobs - lost_jobs\n",
    "    unemployment[t] = 100 - employment[t]  # Assuming total labor force remains constant\n",
    "\n",
    "# Plotting the results\n",
    "plt.figure(figsize=(12, 6))\n",
    "plt.plot(employment, label='Employment Level', color='blue')\n",
    "plt.plot(unemployment, label='Unemployment Level', color='orange')\n",
    "plt.title('Lake Model of Employment and Unemployment')\n",
    "plt.xlabel('Time Periods')\n",
    "plt.ylabel('Number of Individuals')\n",
    "plt.legend()\n",
    "plt.grid()\n",
    "plt.axhline(y=100, color='grey', linestyle='--', label='Total Labor Force')\n",
    "plt.show()"
   ]
  }
 ],
 "metadata": {
  "kernelspec": {
   "display_name": "Python 3 (ipykernel)",
   "language": "python",
   "name": "python3"
  },
  "language_info": {
   "codemirror_mode": {
    "name": "ipython",
    "version": 3
   },
   "file_extension": ".py",
   "mimetype": "text/x-python",
   "name": "python",
   "nbconvert_exporter": "python",
   "pygments_lexer": "ipython3",
   "version": "3.11.5"
  }
 },
 "nbformat": 4,
 "nbformat_minor": 5
}
