{
 "cells": [
  {
   "cell_type": "code",
   "execution_count": null,
   "id": "1b31f710",
   "metadata": {},
   "outputs": [],
   "source": [
    "# Q1\n",
    "\n",
    "def present_value(a, r, n):\n",
    "    \"\"\"Calculate the present value of a series of cash flows.\"\"\"\n",
    "    return a * (1 - r**n) / (1 - r)\n",
    "\n",
    "# Example usage:\n",
    "annual_payout = 100  # annual cash flow\n",
    "interest_rate = 0.05  # interest rate\n",
    "years = 10  # number of years\n",
    "\n",
    "# Calculate present value\n",
    "pv = present_value(annual_payout, interest_rate, years)\n",
    "print(\"Present Value:\", pv)"
   ]
  }
 ],
 "metadata": {
  "kernelspec": {
   "display_name": "Python 3 (ipykernel)",
   "language": "python",
   "name": "python3"
  },
  "language_info": {
   "codemirror_mode": {
    "name": "ipython",
    "version": 3
   },
   "file_extension": ".py",
   "mimetype": "text/x-python",
   "name": "python",
   "nbconvert_exporter": "python",
   "pygments_lexer": "ipython3",
   "version": "3.11.5"
  }
 },
 "nbformat": 4,
 "nbformat_minor": 5
}
